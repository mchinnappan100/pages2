{
 "cells": [
  {
   "cell_type": "markdown",
   "metadata": {},
   "source": [
    "# Test Traceroute MCP Server\n",
    "\n",
    "This notebook demonstrates how to test the `traceroute_query` function from `traceroute_mcp_server.py`.\n",
    "\n",
    "You can use this notebook to check the traceroute to any host."
   ]
  },
  {
   "cell_type": "code",
   "execution_count": 1,
   "metadata": {},
   "outputs": [],
   "source": [
    "\n",
    "import platform\n",
    "import subprocess\n",
    "\n",
    "def traceroute_query(host: str, max_hops: int = 30) -> str:\n",
    "    \"\"\"Perform a traceroute to the given host.\"\"\"\n",
    "    system = platform.system().lower()\n",
    "    if system == \"windows\":\n",
    "        cmd = [\"tracert\", \"-h\", str(max_hops), host]\n",
    "    else:\n",
    "        # Most Unix systems\n",
    "        cmd = [\"traceroute\", \"-m\", str(max_hops), host]\n",
    "    try:\n",
    "        result = subprocess.run(cmd, capture_output=True, text=True, timeout=60)\n",
    "        return result.stdout if result.returncode == 0 else result.stderr\n",
    "    except Exception as e:\n",
    "        return f\"Traceroute failed: {e}\""
   ]
  },
  {
   "cell_type": "code",
   "execution_count": null,
   "metadata": {},
   "outputs": [],
   "source": []
  },
  {
   "cell_type": "code",
   "execution_count": 2,
   "metadata": {},
   "outputs": [
    {
     "data": {
      "text/plain": [
       "\"Traceroute failed: Command '['traceroute', '-m', '30', 'salesforce.com']' timed out after 60 seconds\""
      ]
     },
     "execution_count": 2,
     "metadata": {},
     "output_type": "execute_result"
    }
   ],
   "source": [
    "traceroute_query('salesforce.com')"
   ]
  }
 ],
 "metadata": {
  "kernelspec": {
   "display_name": "Python 3",
   "language": "python",
   "name": "python3"
  },
  "language_info": {
   "codemirror_mode": {
    "name": "ipython",
    "version": 3
   },
   "file_extension": ".py",
   "mimetype": "text/x-python",
   "name": "python",
   "nbconvert_exporter": "python",
   "pygments_lexer": "ipython3",
   "version": "3.11.11"
  }
 },
 "nbformat": 4,
 "nbformat_minor": 2
}
