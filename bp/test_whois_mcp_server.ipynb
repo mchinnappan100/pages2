{
 "cells": [
  {
   "cell_type": "markdown",
   "metadata": {},
   "source": [
    "# Test WHOIS MCP Server\n",
    "\n",
    "This notebook demonstrates how to test the `whois_query` function from `whois_mcp_server.py`.\n",
    "\n",
    "You can use this notebook to check WHOIS information for any domain."
   ]
  },
  {
   "cell_type": "code",
   "execution_count": 4,
   "metadata": {},
   "outputs": [],
   "source": [
    "import socket\n",
    "\n",
    "def whois_query(domain: str) -> str:\n",
    "    \"\"\"Perform a WHOIS lookup for a domain name.\"\"\"\n",
    "    WHOIS_SERVER = \"whois.iana.org\"\n",
    "    try:\n",
    "        # Find the authoritative WHOIS server for the TLD\n",
    "        with socket.create_connection((WHOIS_SERVER, 43), timeout=10) as s:\n",
    "            s.sendall((domain + \"\\r\\n\").encode())\n",
    "            response = b\"\"\n",
    "            while True:\n",
    "                data = s.recv(4096)\n",
    "                if not data:\n",
    "                    break\n",
    "                response += data\n",
    "        response_text = response.decode(errors=\"ignore\")\n",
    "        # Find the \"refer:\" line for the authoritative server\n",
    "        refer_line = next((line for line in response_text.splitlines() if line.lower().startswith(\"refer:\")), None)\n",
    "        if refer_line:\n",
    "            whois_server = refer_line.split(\":\", 1)[1].strip()\n",
    "        else:\n",
    "            whois_server = WHOIS_SERVER\n",
    "\n",
    "        # Query the authoritative WHOIS server\n",
    "        with socket.create_connection((whois_server, 43), timeout=10) as s:\n",
    "            s.sendall((domain + \"\\r\\n\").encode())\n",
    "            response = b\"\"\n",
    "            while True:\n",
    "                data = s.recv(4096)\n",
    "                if not data:\n",
    "                    break\n",
    "                response += data\n",
    "        return response.decode(errors=\"ignore\")\n",
    "    except Exception as e:\n",
    "        return f\"WHOIS lookup failed: {e}\"\n"
   ]
  },
  {
   "cell_type": "code",
   "execution_count": 5,
   "metadata": {},
   "outputs": [
    {
     "data": {
      "text/plain": [
       "'   Domain Name: APPSTORE.COM\\r\\n   Registry Domain ID: 1776392_DOMAIN_COM-VRSN\\r\\n   Registrar WHOIS Server: whois.comlaude.com\\r\\n   Registrar URL: http://www.comlaude.com\\r\\n   Updated Date: 2024-07-14T23:09:10Z\\r\\n   Creation Date: 1998-08-14T04:00:00Z\\r\\n   Registry Expiry Date: 2025-08-13T04:00:00Z\\r\\n   Registrar: Nom-iq Ltd. dba COM LAUDE\\r\\n   Registrar IANA ID: 470\\r\\n   Registrar Abuse Contact Email: abuse@comlaude.com\\r\\n   Registrar Abuse Contact Phone: +442074218250\\r\\n   Domain Status: clientDeleteProhibited https://icann.org/epp#clientDeleteProhibited\\r\\n   Domain Status: clientTransferProhibited https://icann.org/epp#clientTransferProhibited\\r\\n   Domain Status: clientUpdateProhibited https://icann.org/epp#clientUpdateProhibited\\r\\n   Name Server: A.NS.APPLE.COM\\r\\n   Name Server: B.NS.APPLE.COM\\r\\n   Name Server: C.NS.APPLE.COM\\r\\n   Name Server: D.NS.APPLE.COM\\r\\n   DNSSEC: unsigned\\r\\n   URL of the ICANN Whois Inaccuracy Complaint Form: https://www.icann.org/wicf/\\r\\n>>> Last update of whois database: 2025-05-29T16:36:22Z <<<\\r\\n\\r\\nFor more information on Whois status codes, please visit https://icann.org/epp\\r\\n\\r\\nNOTICE: The expiration date displayed in this record is the date the\\r\\nregistrar\\'s sponsorship of the domain name registration in the registry is\\r\\ncurrently set to expire. This date does not necessarily reflect the expiration\\r\\ndate of the domain name registrant\\'s agreement with the sponsoring\\r\\nregistrar.  Users may consult the sponsoring registrar\\'s Whois database to\\r\\nview the registrar\\'s reported date of expiration for this registration.\\r\\n\\r\\nTERMS OF USE: You are not authorized to access or query our Whois\\r\\ndatabase through the use of electronic processes that are high-volume and\\r\\nautomated except as reasonably necessary to register domain names or\\r\\nmodify existing registrations; the Data in VeriSign Global Registry\\r\\nServices\\' (\"VeriSign\") Whois database is provided by VeriSign for\\r\\ninformation purposes only, and to assist persons in obtaining information\\r\\nabout or related to a domain name registration record. VeriSign does not\\r\\nguarantee its accuracy. By submitting a Whois query, you agree to abide\\r\\nby the following terms of use: You agree that you may use this Data only\\r\\nfor lawful purposes and that under no circumstances will you use this Data\\r\\nto: (1) allow, enable, or otherwise support the transmission of mass\\r\\nunsolicited, commercial advertising or solicitations via e-mail, telephone,\\r\\nor facsimile; or (2) enable high volume, automated, electronic processes\\r\\nthat apply to VeriSign (or its computer systems). The compilation,\\r\\nrepackaging, dissemination or other use of this Data is expressly\\r\\nprohibited without the prior written consent of VeriSign. You agree not to\\r\\nuse electronic processes that are automated and high-volume to access or\\r\\nquery the Whois database except as reasonably necessary to register\\r\\ndomain names or modify existing registrations. VeriSign reserves the right\\r\\nto restrict your access to the Whois database in its sole discretion to ensure\\r\\noperational stability.  VeriSign may restrict or terminate your access to the\\r\\nWhois database for failure to abide by these terms of use. VeriSign\\r\\nreserves the right to modify these terms at any time.\\r\\n\\r\\nThe Registry database contains ONLY .COM, .NET, .EDU domains and\\r\\nRegistrars.\\r\\n'"
      ]
     },
     "execution_count": 5,
     "metadata": {},
     "output_type": "execute_result"
    }
   ],
   "source": [
    "whois_query(\"appstore.com\")  # Example usage"
   ]
  }
 ],
 "metadata": {
  "kernelspec": {
   "display_name": "Python 3",
   "language": "python",
   "name": "python3"
  },
  "language_info": {
   "codemirror_mode": {
    "name": "ipython",
    "version": 3
   },
   "file_extension": ".py",
   "mimetype": "text/x-python",
   "name": "python",
   "nbconvert_exporter": "python",
   "pygments_lexer": "ipython3",
   "version": "3.11.12"
  }
 },
 "nbformat": 4,
 "nbformat_minor": 2
}
