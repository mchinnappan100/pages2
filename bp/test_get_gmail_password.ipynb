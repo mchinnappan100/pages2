{
 "cells": [
  {
   "cell_type": "code",
   "execution_count": 1,
   "id": "4f5f119a",
   "metadata": {},
   "outputs": [],
   "source": [
    "import json\n",
    "import os\n",
    "\n",
    "def get_gmail_password(email: str) -> str:\n",
    "    \"\"\"Read Gmail app password for the given email from ~/.gmail/access.json.\"\"\"\n",
    "    access_path = os.path.expanduser(\"~/.gmail/access.json\")\n",
    "    with open(access_path) as f:\n",
    "        data = json.load(f)\n",
    "    # access.json should be: { \"user@gmail.com\": \"app-password-here\", ... }\n",
    "    if email not in data:\n",
    "        raise ValueError(f\"No password found for {email} in {access_path}\")\n",
    "    return data[email]"
   ]
  },
  {
   "cell_type": "code",
   "execution_count": 2,
   "id": "238d404e",
   "metadata": {},
   "outputs": [
    {
     "data": {
      "text/plain": [
       "'peqo fahb aayf hspy'"
      ]
     },
     "execution_count": 2,
     "metadata": {},
     "output_type": "execute_result"
    }
   ],
   "source": [
    "get_gmail_password('mohan.chinnappan.n5@gmail.com')"
   ]
  },
  {
   "cell_type": "code",
   "execution_count": null,
   "id": "eb57b752",
   "metadata": {},
   "outputs": [],
   "source": [
    "from email.mime.multipart import MIMEMultipart\n",
    "from email.mime.text import MIMEText\n",
    "import smtplib\n",
    "\n",
    "def send_gmail(\n",
    "    sender_email: str,\n",
    "    recipient_email: str,\n",
    "    subject: str,\n",
    "    body: str\n",
    ") -> str:\n",
    "    \"\"\"Send an email using Gmail SMTP, reading password from ~/.gmail/access.json.\"\"\"\n",
    "    try:\n",
    "        sender_password = get_gmail_password(sender_email)\n",
    "        msg = MIMEMultipart()\n",
    "        msg[\"From\"] = sender_email\n",
    "        msg[\"To\"] = recipient_email\n",
    "        msg[\"Subject\"] = subjec\n",
    "        msg.attach(MIMEText(body, \"plain\"))\n",
    "\n",
    "        with smtplib.SMTP_SSL(\"smtp.gmail.com\", 465) as server:\n",
    "            server.login(sender_email, sender_password)\n",
    "            server.sendmail(sender_email, recipient_email, msg.as_string())\n",
    "        return f\"Email sent to {recipient_email} with subject '{subject}'\"\n",
    "    except Exception as e:\n",
    "        return f\"Failed to send email: {e}\"\n"
   ]
  },
  {
   "cell_type": "code",
   "execution_count": 4,
   "id": "37ae0f69",
   "metadata": {},
   "outputs": [
    {
     "data": {
      "text/plain": [
       "\"Email sent to mohan.chinnappan.n@gmail.com with subject 'Test Email'\""
      ]
     },
     "execution_count": 4,
     "metadata": {},
     "output_type": "execute_result"
    }
   ],
   "source": [
    "send_gmail(\n",
    "    sender_email='mohan.chinnappan.n5@gmail.com',\n",
    "    recipient_email='mohan.chinnappan.n@gmail.com',\n",
    "    subject='Test Email',\n",
    "    body='This is a test email sent via Gmail SMTP.'\n",
    ")"
   ]
  }
 ],
 "metadata": {
  "kernelspec": {
   "display_name": "Python 3",
   "language": "python",
   "name": "python3"
  },
  "language_info": {
   "codemirror_mode": {
    "name": "ipython",
    "version": 3
   },
   "file_extension": ".py",
   "mimetype": "text/x-python",
   "name": "python",
   "nbconvert_exporter": "python",
   "pygments_lexer": "ipython3",
   "version": "3.11.11"
  }
 },
 "nbformat": 4,
 "nbformat_minor": 5
}
