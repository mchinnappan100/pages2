{
 "cells": [
  {
   "cell_type": "code",
   "execution_count": 1,
   "id": "1c051338",
   "metadata": {},
   "outputs": [],
   "source": [
    "import os\n",
    "import json\n",
    "import psycopg2\n",
    "\n",
    "def get_pg_conn_params(profile: str = \"default\") -> dict:\n",
    "    \"\"\"Read PostgreSQL connection parameters from ~/.pg/connection.json.\"\"\"\n",
    "    conn_path = os.path.expanduser(\"~/.pg/connection.json\")\n",
    "    with open(conn_path) as f:\n",
    "        data = json.load(f)\n",
    "    if profile not in data:\n",
    "        raise ValueError(f\"No connection profile '{profile}' in {conn_path}\")\n",
    "    return data[profile]\n",
    "\n",
    "def run_pg_query(query: str, profile: str = \"default\") -> list:\n",
    "    \"\"\"Run a SQL query on PostgreSQL and return results as list of dicts.\"\"\"\n",
    "    params = get_pg_conn_params(profile)\n",
    "    conn = psycopg2.connect(\n",
    "        host=params[\"host\"],\n",
    "        port=params.get(\"port\", 5432),\n",
    "        user=params[\"user\"],\n",
    "        password=params[\"password\"],\n",
    "        dbname=params[\"dbname\"]\n",
    "    )\n",
    "    try:\n",
    "        with conn.cursor() as cur:\n",
    "            cur.execute(query)\n",
    "            columns = [desc[0] for desc in cur.description]\n",
    "            rows = cur.fetchall()\n",
    "            return [dict(zip(columns, row)) for row in rows]\n",
    "    finally:\n",
    "        conn.close()"
   ]
  },
  {
   "cell_type": "code",
   "execution_count": 3,
   "id": "7198c62e",
   "metadata": {},
   "outputs": [
    {
     "data": {
      "text/plain": [
       "[{'slno': 10, 'description': 'hello'},\n",
       " {'slno': 20, 'description': 'world'},\n",
       " {'slno': 20, 'description': 'world'}]"
      ]
     },
     "execution_count": 3,
     "metadata": {},
     "output_type": "execute_result"
    }
   ],
   "source": [
    "run_pg_query(\"SELECT * FROM emp\", profile=\"default\")"
   ]
  },
  {
   "cell_type": "code",
   "execution_count": 4,
   "id": "9e51313e",
   "metadata": {},
   "outputs": [
    {
     "data": {
      "text/plain": [
       "[{'id': 1, 'embedding': '[1,2,3]'}, {'id': 2, 'embedding': '[4,5,6]'}]"
      ]
     },
     "execution_count": 4,
     "metadata": {},
     "output_type": "execute_result"
    }
   ],
   "source": [
    "run_pg_query(\"SELECT * FROM items\", profile=\"default\")"
   ]
  },
  {
   "cell_type": "code",
   "execution_count": 5,
   "id": "fddba187",
   "metadata": {},
   "outputs": [
    {
     "data": {
      "text/plain": [
       "[{'id': 1, 'name': 'c4ca4238a0', 'value': 0.72201073},\n",
       " {'id': 2, 'name': 'c81e728d9d', 'value': 0.5568709},\n",
       " {'id': 3, 'name': 'eccbc87e4b', 'value': 0.45033464},\n",
       " {'id': 4, 'name': 'a87ff679a2', 'value': 0.99806464},\n",
       " {'id': 5, 'name': 'e4da3b7fbb', 'value': 0.29121268},\n",
       " {'id': 6, 'name': '1679091c5a', 'value': 0.39245477},\n",
       " {'id': 7, 'name': '8f14e45fce', 'value': 0.12164197},\n",
       " {'id': 8, 'name': 'c9f0f895fb', 'value': 0.055121623},\n",
       " {'id': 9, 'name': '45c48cce2e', 'value': 0.71753603},\n",
       " {'id': 10, 'name': 'd3d9446802', 'value': 0.7876193}]"
      ]
     },
     "execution_count": 5,
     "metadata": {},
     "output_type": "execute_result"
    }
   ],
   "source": [
    "run_pg_query(\"SELECT * FROM playing_with_neon LIMIT 10\", profile=\"default\")"
   ]
  },
  {
   "cell_type": "code",
   "execution_count": 8,
   "id": "53ff96c6",
   "metadata": {},
   "outputs": [],
   "source": [
    "def run_pg_insert(insert_sql: str, profile: str = \"default\") -> int:\n",
    "    \"\"\"Run an INSERT statement on PostgreSQL. Returns number of rows inserted.\"\"\"\n",
    "    params = get_pg_conn_params(profile)\n",
    "    conn = psycopg2.connect(\n",
    "        host=params[\"host\"],\n",
    "        port=params.get(\"port\", 5432),\n",
    "        user=params[\"user\"],\n",
    "        password=params[\"password\"],\n",
    "        dbname=params[\"dbname\"]\n",
    "    )\n",
    "    try:\n",
    "        with conn.cursor() as cur:\n",
    "            cur.execute(insert_sql)\n",
    "            conn.commit()\n",
    "            return cur.rowcount\n",
    "    finally:\n",
    "        conn.close()"
   ]
  },
  {
   "cell_type": "code",
   "execution_count": 9,
   "id": "d408cc56",
   "metadata": {},
   "outputs": [
    {
     "name": "stdout",
     "output_type": "stream",
     "text": [
      "Rows inserted: 1\n"
     ]
    }
   ],
   "source": [
    "# Example: Insert a new employee into the 'emp' table\n",
    "insert_sql = \"INSERT INTO emp (slno, description) VALUES (100, 'awesome') \"\n",
    "rows_inserted = run_pg_insert(insert_sql, profile=\"default\")\n",
    "print(f\"Rows inserted: {rows_inserted}\")"
   ]
  }
 ],
 "metadata": {
  "kernelspec": {
   "display_name": "Python 3",
   "language": "python",
   "name": "python3"
  },
  "language_info": {
   "codemirror_mode": {
    "name": "ipython",
    "version": 3
   },
   "file_extension": ".py",
   "mimetype": "text/x-python",
   "name": "python",
   "nbconvert_exporter": "python",
   "pygments_lexer": "ipython3",
   "version": "3.11.11"
  }
 },
 "nbformat": 4,
 "nbformat_minor": 5
}
