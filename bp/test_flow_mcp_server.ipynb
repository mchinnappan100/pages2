{
 "cells": [
  {
   "cell_type": "code",
   "execution_count": 20,
   "id": "ca438d5f",
   "metadata": {},
   "outputs": [],
   "source": [
    "import json\n",
    "import subprocess\n",
    "import httpx\n",
    "from typing import Any\n",
    "\n",
    "def get_sf_conn(username: str = \"username\") -> dict[str, str]:\n",
    "    \"\"\"Run Salesforce CLI to get connection info (accessToken, instanceUrl, apiVersion).\"\"\"\n",
    "    result = subprocess.run(\n",
    "        [\"sf\", \"force\", \"org\", \"display\", \"-u\", username, \"--json\"],\n",
    "        capture_output=True,\n",
    "        text=True\n",
    "    )\n",
    "    print(\"STDOUT:\", result.stdout)\n",
    "    print(\"STDERR:\", result.stderr)\n",
    "    if result.returncode != 0:\n",
    "        raise RuntimeError(f\"sf CLI failed: {result.stderr}\")\n",
    "    data = json.loads(result.stdout)\n",
    "    return {\n",
    "        \"access_token\": data[\"result\"][\"accessToken\"],\n",
    "        \"instance_url\": data[\"result\"][\"instanceUrl\"],\n",
    "        \"api_version\": data[\"result\"][\"apiVersion\"]\n",
    "    }\n",
    "\n",
    "async def run_flow(\n",
    "    flow_api_name: str,\n",
    "    input_variables: dict[str, Any],\n",
    "    sf_conn: dict[str, str]\n",
    ") -> dict[str, Any]:\n",
    "    \"\"\"Invoke a Salesforce Flow via REST API.\"\"\"\n",
    "    url = f\"{sf_conn['instance_url']}/services/data/v{sf_conn['api_version']}/actions/custom/flow/{flow_api_name}\"\n",
    "    headers = {\n",
    "        \"Authorization\": f\"Bearer {sf_conn['access_token']}\",\n",
    "        \"Content-Type\": \"application/json\"\n",
    "    }\n",
    "    payload = {\"inputs\": [input_variables]}\n",
    "    async with httpx.AsyncClient() as client:\n",
    "        resp = await client.post(url, headers=headers, json=payload, timeout=30.0)\n",
    "        resp.raise_for_status()\n",
    "        return resp.json()\n"
   ]
  },
  {
   "cell_type": "code",
   "execution_count": 21,
   "id": "ba436a11",
   "metadata": {},
   "outputs": [
    {
     "name": "stdout",
     "output_type": "stream",
     "text": [
      "STDOUT: \u001b[97m{\u001b[39m\n",
      "  \u001b[94m\"status\"\u001b[39m: \u001b[34m0\u001b[39m\u001b[32m,\u001b[39m\n",
      "  \u001b[94m\"result\"\u001b[39m: \u001b[97m{\u001b[39m\n",
      "    \u001b[94m\"id\"\u001b[39m: \u001b[92m\"00DHs000000QASYMA4\"\u001b[39m\u001b[32m,\u001b[39m\n",
      "    \u001b[94m\"apiVersion\"\u001b[39m: \u001b[92m\"63.0\"\u001b[39m\u001b[32m,\u001b[39m\n",
      "    \u001b[94m\"accessToken\"\u001b[39m: \u001b[92m\"00DHs000000QASY!AQwAQIeGppSLVouVSdgZDTOQuGPUEJCajjqKjFnxVScxIBU2rurdKV6bP_AheN3ba3z_SI95icFFu.MS.K36XAxJS2reVTYH\"\u001b[39m\u001b[32m,\u001b[39m\n",
      "    \u001b[94m\"instanceUrl\"\u001b[39m: \u001b[92m\"https://dhs000000qasyma4-dev-ed.develop.my.salesforce.com\"\u001b[39m\u001b[32m,\u001b[39m\n",
      "    \u001b[94m\"username\"\u001b[39m: \u001b[92m\"mohan.chinnappan.n.ea10@gmail.com\"\u001b[39m\u001b[32m,\u001b[39m\n",
      "    \u001b[94m\"clientId\"\u001b[39m: \u001b[92m\"PlatformCLI\"\u001b[39m\u001b[32m,\u001b[39m\n",
      "    \u001b[94m\"connectedStatus\"\u001b[39m: \u001b[92m\"Connected\"\u001b[39m\n",
      "  \u001b[97m}\u001b[39m\u001b[32m,\u001b[39m\n",
      "  \u001b[94m\"warnings\"\u001b[39m: \u001b[97m[\u001b[39m\n",
      "    \u001b[92m\"The \\\"-u\\\" flag has been deprecated. Use \\\"--target-org | -o\\\" instead.\"\u001b[39m\u001b[32m,\u001b[39m\n",
      "    \u001b[92m\"This command will expose sensitive information that allows for subsequent activity using your current authenticated session.\\nSharing this information is equivalent to logging someone in under the current credential, resulting in unintended access and escalation of privilege.\\nFor additional information, please review the authorization section of the https://developer.salesforce.com/docs/atlas.en-us.sfdx_dev.meta/sfdx_dev/sfdx_dev_auth_web_flow.htm.\"\u001b[39m\n",
      "  \u001b[97m]\u001b[39m\n",
      "\u001b[97m}\u001b[39m\n",
      "\n",
      "STDERR:  \u001b[33m›\u001b[39m   Warning: @salesforce/cli update available from \u001b[92m2.83.7\u001b[39m to \u001b[92m2.89.8\u001b[39m.\n",
      "\n"
     ]
    },
    {
     "ename": "JSONDecodeError",
     "evalue": "Expecting value: line 1 column 1 (char 0)",
     "output_type": "error",
     "traceback": [
      "\u001b[31m---------------------------------------------------------------------------\u001b[39m",
      "\u001b[31mJSONDecodeError\u001b[39m                           Traceback (most recent call last)",
      "\u001b[36mCell\u001b[39m\u001b[36m \u001b[39m\u001b[32mIn[21]\u001b[39m\u001b[32m, line 1\u001b[39m\n\u001b[32m----> \u001b[39m\u001b[32m1\u001b[39m auth = \u001b[43mget_sf_conn\u001b[49m\u001b[43m(\u001b[49m\u001b[33;43m'\u001b[39;49m\u001b[33;43mmohan.chinnappan.n.ea10@gmail.com\u001b[39;49m\u001b[33;43m'\u001b[39;49m\u001b[43m)\u001b[49m\n\u001b[32m      2\u001b[39m \u001b[38;5;28mprint\u001b[39m(auth)\n",
      "\u001b[36mCell\u001b[39m\u001b[36m \u001b[39m\u001b[32mIn[20]\u001b[39m\u001b[32m, line 17\u001b[39m, in \u001b[36mget_sf_conn\u001b[39m\u001b[34m(username)\u001b[39m\n\u001b[32m     15\u001b[39m \u001b[38;5;28;01mif\u001b[39;00m result.returncode != \u001b[32m0\u001b[39m:\n\u001b[32m     16\u001b[39m     \u001b[38;5;28;01mraise\u001b[39;00m \u001b[38;5;167;01mRuntimeError\u001b[39;00m(\u001b[33mf\u001b[39m\u001b[33m\"\u001b[39m\u001b[33msf CLI failed: \u001b[39m\u001b[38;5;132;01m{\u001b[39;00mresult.stderr\u001b[38;5;132;01m}\u001b[39;00m\u001b[33m\"\u001b[39m)\n\u001b[32m---> \u001b[39m\u001b[32m17\u001b[39m data = \u001b[43mjson\u001b[49m\u001b[43m.\u001b[49m\u001b[43mloads\u001b[49m\u001b[43m(\u001b[49m\u001b[43mresult\u001b[49m\u001b[43m.\u001b[49m\u001b[43mstdout\u001b[49m\u001b[43m)\u001b[49m\n\u001b[32m     18\u001b[39m \u001b[38;5;28;01mreturn\u001b[39;00m {\n\u001b[32m     19\u001b[39m     \u001b[33m\"\u001b[39m\u001b[33maccess_token\u001b[39m\u001b[33m\"\u001b[39m: data[\u001b[33m\"\u001b[39m\u001b[33mresult\u001b[39m\u001b[33m\"\u001b[39m][\u001b[33m\"\u001b[39m\u001b[33maccessToken\u001b[39m\u001b[33m\"\u001b[39m],\n\u001b[32m     20\u001b[39m     \u001b[33m\"\u001b[39m\u001b[33minstance_url\u001b[39m\u001b[33m\"\u001b[39m: data[\u001b[33m\"\u001b[39m\u001b[33mresult\u001b[39m\u001b[33m\"\u001b[39m][\u001b[33m\"\u001b[39m\u001b[33minstanceUrl\u001b[39m\u001b[33m\"\u001b[39m],\n\u001b[32m     21\u001b[39m     \u001b[33m\"\u001b[39m\u001b[33mapi_version\u001b[39m\u001b[33m\"\u001b[39m: data[\u001b[33m\"\u001b[39m\u001b[33mresult\u001b[39m\u001b[33m\"\u001b[39m][\u001b[33m\"\u001b[39m\u001b[33mapiVersion\u001b[39m\u001b[33m\"\u001b[39m]\n\u001b[32m     22\u001b[39m }\n",
      "\u001b[36mFile \u001b[39m\u001b[32m/opt/homebrew/Cellar/python@3.11/3.11.11/Frameworks/Python.framework/Versions/3.11/lib/python3.11/json/__init__.py:346\u001b[39m, in \u001b[36mloads\u001b[39m\u001b[34m(s, cls, object_hook, parse_float, parse_int, parse_constant, object_pairs_hook, **kw)\u001b[39m\n\u001b[32m    341\u001b[39m     s = s.decode(detect_encoding(s), \u001b[33m'\u001b[39m\u001b[33msurrogatepass\u001b[39m\u001b[33m'\u001b[39m)\n\u001b[32m    343\u001b[39m \u001b[38;5;28;01mif\u001b[39;00m (\u001b[38;5;28mcls\u001b[39m \u001b[38;5;129;01mis\u001b[39;00m \u001b[38;5;28;01mNone\u001b[39;00m \u001b[38;5;129;01mand\u001b[39;00m object_hook \u001b[38;5;129;01mis\u001b[39;00m \u001b[38;5;28;01mNone\u001b[39;00m \u001b[38;5;129;01mand\u001b[39;00m\n\u001b[32m    344\u001b[39m         parse_int \u001b[38;5;129;01mis\u001b[39;00m \u001b[38;5;28;01mNone\u001b[39;00m \u001b[38;5;129;01mand\u001b[39;00m parse_float \u001b[38;5;129;01mis\u001b[39;00m \u001b[38;5;28;01mNone\u001b[39;00m \u001b[38;5;129;01mand\u001b[39;00m\n\u001b[32m    345\u001b[39m         parse_constant \u001b[38;5;129;01mis\u001b[39;00m \u001b[38;5;28;01mNone\u001b[39;00m \u001b[38;5;129;01mand\u001b[39;00m object_pairs_hook \u001b[38;5;129;01mis\u001b[39;00m \u001b[38;5;28;01mNone\u001b[39;00m \u001b[38;5;129;01mand\u001b[39;00m \u001b[38;5;129;01mnot\u001b[39;00m kw):\n\u001b[32m--> \u001b[39m\u001b[32m346\u001b[39m     \u001b[38;5;28;01mreturn\u001b[39;00m \u001b[43m_default_decoder\u001b[49m\u001b[43m.\u001b[49m\u001b[43mdecode\u001b[49m\u001b[43m(\u001b[49m\u001b[43ms\u001b[49m\u001b[43m)\u001b[49m\n\u001b[32m    347\u001b[39m \u001b[38;5;28;01mif\u001b[39;00m \u001b[38;5;28mcls\u001b[39m \u001b[38;5;129;01mis\u001b[39;00m \u001b[38;5;28;01mNone\u001b[39;00m:\n\u001b[32m    348\u001b[39m     \u001b[38;5;28mcls\u001b[39m = JSONDecoder\n",
      "\u001b[36mFile \u001b[39m\u001b[32m/opt/homebrew/Cellar/python@3.11/3.11.11/Frameworks/Python.framework/Versions/3.11/lib/python3.11/json/decoder.py:337\u001b[39m, in \u001b[36mJSONDecoder.decode\u001b[39m\u001b[34m(self, s, _w)\u001b[39m\n\u001b[32m    332\u001b[39m \u001b[38;5;28;01mdef\u001b[39;00m\u001b[38;5;250m \u001b[39m\u001b[34mdecode\u001b[39m(\u001b[38;5;28mself\u001b[39m, s, _w=WHITESPACE.match):\n\u001b[32m    333\u001b[39m \u001b[38;5;250m    \u001b[39m\u001b[33;03m\"\"\"Return the Python representation of ``s`` (a ``str`` instance\u001b[39;00m\n\u001b[32m    334\u001b[39m \u001b[33;03m    containing a JSON document).\u001b[39;00m\n\u001b[32m    335\u001b[39m \n\u001b[32m    336\u001b[39m \u001b[33;03m    \"\"\"\u001b[39;00m\n\u001b[32m--> \u001b[39m\u001b[32m337\u001b[39m     obj, end = \u001b[38;5;28;43mself\u001b[39;49m\u001b[43m.\u001b[49m\u001b[43mraw_decode\u001b[49m\u001b[43m(\u001b[49m\u001b[43ms\u001b[49m\u001b[43m,\u001b[49m\u001b[43m \u001b[49m\u001b[43midx\u001b[49m\u001b[43m=\u001b[49m\u001b[43m_w\u001b[49m\u001b[43m(\u001b[49m\u001b[43ms\u001b[49m\u001b[43m,\u001b[49m\u001b[43m \u001b[49m\u001b[32;43m0\u001b[39;49m\u001b[43m)\u001b[49m\u001b[43m.\u001b[49m\u001b[43mend\u001b[49m\u001b[43m(\u001b[49m\u001b[43m)\u001b[49m\u001b[43m)\u001b[49m\n\u001b[32m    338\u001b[39m     end = _w(s, end).end()\n\u001b[32m    339\u001b[39m     \u001b[38;5;28;01mif\u001b[39;00m end != \u001b[38;5;28mlen\u001b[39m(s):\n",
      "\u001b[36mFile \u001b[39m\u001b[32m/opt/homebrew/Cellar/python@3.11/3.11.11/Frameworks/Python.framework/Versions/3.11/lib/python3.11/json/decoder.py:355\u001b[39m, in \u001b[36mJSONDecoder.raw_decode\u001b[39m\u001b[34m(self, s, idx)\u001b[39m\n\u001b[32m    353\u001b[39m     obj, end = \u001b[38;5;28mself\u001b[39m.scan_once(s, idx)\n\u001b[32m    354\u001b[39m \u001b[38;5;28;01mexcept\u001b[39;00m \u001b[38;5;167;01mStopIteration\u001b[39;00m \u001b[38;5;28;01mas\u001b[39;00m err:\n\u001b[32m--> \u001b[39m\u001b[32m355\u001b[39m     \u001b[38;5;28;01mraise\u001b[39;00m JSONDecodeError(\u001b[33m\"\u001b[39m\u001b[33mExpecting value\u001b[39m\u001b[33m\"\u001b[39m, s, err.value) \u001b[38;5;28;01mfrom\u001b[39;00m\u001b[38;5;250m \u001b[39m\u001b[38;5;28;01mNone\u001b[39;00m\n\u001b[32m    356\u001b[39m \u001b[38;5;28;01mreturn\u001b[39;00m obj, end\n",
      "\u001b[31mJSONDecodeError\u001b[39m: Expecting value: line 1 column 1 (char 0)"
     ]
    }
   ],
   "source": [
    "auth = get_sf_conn('mohan.chinnappan.n.ea10@gmail.com')\n",
    "print(auth)"
   ]
  }
 ],
 "metadata": {
  "kernelspec": {
   "display_name": "Python 3",
   "language": "python",
   "name": "python3"
  },
  "language_info": {
   "codemirror_mode": {
    "name": "ipython",
    "version": 3
   },
   "file_extension": ".py",
   "mimetype": "text/x-python",
   "name": "python",
   "nbconvert_exporter": "python",
   "pygments_lexer": "ipython3",
   "version": "3.11.11"
  }
 },
 "nbformat": 4,
 "nbformat_minor": 5
}
