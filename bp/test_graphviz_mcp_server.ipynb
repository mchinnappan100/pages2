{
 "cells": [
  {
   "cell_type": "code",
   "execution_count": 6,
   "id": "53125d33",
   "metadata": {},
   "outputs": [],
   "source": [
    "import tempfile\n",
    "import subprocess\n",
    "import base64\n",
    "import os\n",
    "\n",
    "def render_graphviz(dot_code: str, format: str = \"png\") -> str:\n",
    "    \"\"\"\n",
    "    Render Graphviz DOT code to an image and return as base64 string.\n",
    "\n",
    "    Args:\n",
    "        dot_code: The Graphviz DOT language code.\n",
    "        format: Output format (default: png, can be svg, pdf, etc.)\n",
    "\n",
    "    Returns:\n",
    "        Base64-encoded image data (e.g., for PNG: \"data:image/png;base64,...\")\n",
    "    \"\"\"\n",
    "    with tempfile.TemporaryDirectory() as tmpdir:\n",
    "        dot_path = os.path.join(tmpdir, \"graph.dot\")\n",
    "        out_path = os.path.join(tmpdir, f\"graph.{format}\")\n",
    "        with open(dot_path, \"w\") as f:\n",
    "            f.write(dot_code)\n",
    "        try:\n",
    "            subprocess.run(\n",
    "                [\"/opt/homebrew/bin/dot\", f\"-T{format}\", dot_path, \"-o\", out_path],\n",
    "                check=True,\n",
    "                capture_output=True\n",
    "            )\n",
    "            with open(out_path, \"rb\") as imgf:\n",
    "                img_data = imgf.read()\n",
    "            b64 = base64.b64encode(img_data).decode()\n",
    "            mime = f\"image/{'svg+xml' if format == 'svg' else format}\"\n",
    "            return f\"data:{mime};base64,{b64}\"\n",
    "        except Exception as e:\n",
    "            return f\"Graphviz rendering failed: {e}\"\n"
   ]
  },
  {
   "cell_type": "code",
   "execution_count": 9,
   "id": "8c3df979",
   "metadata": {},
   "outputs": [
    {
     "data": {
      "text/plain": [
       "'data:image/png;base64,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'"
      ]
     },
     "execution_count": 9,
     "metadata": {},
     "output_type": "execute_result"
    }
   ],
   "source": [
    "render_graphviz(\"\"\" digraph sample {\n",
    "    a->b;b->c;c->a; }\"\"\", \"png\")"
   ]
  }
 ],
 "metadata": {
  "kernelspec": {
   "display_name": "Python 3",
   "language": "python",
   "name": "python3"
  },
  "language_info": {
   "codemirror_mode": {
    "name": "ipython",
    "version": 3
   },
   "file_extension": ".py",
   "mimetype": "text/x-python",
   "name": "python",
   "nbconvert_exporter": "python",
   "pygments_lexer": "ipython3",
   "version": "3.11.11"
  }
 },
 "nbformat": 4,
 "nbformat_minor": 5
}
