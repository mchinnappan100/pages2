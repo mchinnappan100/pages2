{
 "cells": [
  {
   "cell_type": "code",
   "execution_count": 5,
   "id": "27d4bc7b",
   "metadata": {},
   "outputs": [
    {
     "name": "stderr",
     "output_type": "stream",
     "text": [
      "/opt/homebrew/lib/python3.11/site-packages/snowflake/connector/options.py:104: UserWarning: You have an incompatible version of 'pyarrow' installed (20.0.0), please install a version that adheres to: 'pyarrow<19.0.0; extra == \"pandas\"'\n",
      "  warn_incompatible_dep(\n"
     ]
    }
   ],
   "source": [
    "import os\n",
    "import json\n",
    "import snowflake.connector\n",
    "def get_snowflake_conn_params(profile: str = \"default\") -> dict:\n",
    "    \"\"\"Read Snowflake connection parameters from ~/.snowflake/connection.json.\"\"\"\n",
    "    conn_path = os.path.expanduser(\"~/.snowflake/connection.json\")\n",
    "    with open(conn_path) as f:\n",
    "        data = json.load(f)\n",
    "    if profile not in data:\n",
    "        raise ValueError(f\"No connection profile '{profile}' in {conn_path}\")\n",
    "    return data[profile]\n",
    "\n",
    "def run_snowflake_query(query: str, profile: str = \"default\") -> list:\n",
    "    \"\"\"Run a SQL query on Snowflake and return results as list of dicts.\"\"\"\n",
    "    params = get_snowflake_conn_params(profile)\n",
    "    conn = snowflake.connector.connect(\n",
    "        user=params[\"user\"],\n",
    "        password=params[\"password\"],\n",
    "        account=params[\"account\"],\n",
    "        warehouse=params.get(\"warehouse\"),\n",
    "        database=params.get(\"database\"),\n",
    "        schema=params.get(\"schema\"),\n",
    "        role=params.get(\"role\")\n",
    "    )\n",
    "    try:\n",
    "        with conn.cursor() as cur:\n",
    "            cur.execute(query)\n",
    "            columns = [desc[0] for desc in cur.description]\n",
    "            rows = cur.fetchall()\n",
    "            return [dict(zip(columns, row)) for row in rows]\n",
    "    finally:\n",
    "        conn.close()\n",
    "\n",
    "def run_snowflake_insert(insert_sql: str, profile: str = \"default\") -> int:\n",
    "    \"\"\"Run an INSERT statement on Snowflake. Returns number of rows inserted.\"\"\"\n",
    "    params = get_snowflake_conn_params(profile)\n",
    "    conn = snowflake.connector.connect(\n",
    "        user=params[\"user\"],\n",
    "        password=params[\"password\"],\n",
    "        account=params[\"account\"],\n",
    "        warehouse=params.get(\"warehouse\"),\n",
    "        database=params.get(\"database\"),\n",
    "        schema=params.get(\"schema\"),\n",
    "        role=params.get(\"role\")\n",
    "    )\n",
    "    try:\n",
    "        with conn.cursor() as cur:\n",
    "            cur.execute(insert_sql)\n",
    "            conn.commit()\n",
    "            return cur.rowcount\n",
    "    finally:\n",
    "        conn.close()\n"
   ]
  },
  {
   "cell_type": "code",
   "execution_count": 6,
   "id": "a87737e8",
   "metadata": {},
   "outputs": [
    {
     "data": {
      "text/plain": [
       "[{'CURRENT_VERSION()': '9.14.2'}]"
      ]
     },
     "execution_count": 6,
     "metadata": {},
     "output_type": "execute_result"
    }
   ],
   "source": [
    "run_snowflake_query(\"SELECT CURRENT_VERSION()\", profile=\"default\")"
   ]
  },
  {
   "cell_type": "code",
   "execution_count": 8,
   "id": "2f403ae1",
   "metadata": {},
   "outputs": [
    {
     "data": {
      "text/plain": [
       "[{'ID': 1,\n",
       "  'SOURCE_TYPE': 'url',\n",
       "  'SOURCE': 'https://example.com',\n",
       "  'CONTENT': 'This is sample content from a website about technology trends.'},\n",
       " {'ID': 2,\n",
       "  'SOURCE_TYPE': 'pdf',\n",
       "  'SOURCE': 'document.pdf',\n",
       "  'CONTENT': 'Extracted text from a PDF discussing machine learning algorithms.'},\n",
       " {'ID': 3,\n",
       "  'SOURCE_TYPE': 'snowflake',\n",
       "  'SOURCE': 'SELECT * FROM CUSTOMERS',\n",
       "  'CONTENT': 'Customer comment: Great service and fast delivery!'},\n",
       " {'ID': 4,\n",
       "  'SOURCE_TYPE': 'url',\n",
       "  'SOURCE': 'https://news.com',\n",
       "  'CONTENT': 'Article summary: New advancements in AI for 2025.'},\n",
       " {'ID': 5,\n",
       "  'SOURCE_TYPE': 'test',\n",
       "  'SOURCE': 'test_source',\n",
       "  'CONTENT': 'Test content for loading into Snowflake.'},\n",
       " {'ID': 1,\n",
       "  'SOURCE_TYPE': 'url',\n",
       "  'SOURCE': 'https://example.com',\n",
       "  'CONTENT': 'This is sample content from a website about technology trends.'},\n",
       " {'ID': 2,\n",
       "  'SOURCE_TYPE': 'pdf',\n",
       "  'SOURCE': 'document.pdf',\n",
       "  'CONTENT': 'Extracted text from a PDF discussing machine learning algorithms.'},\n",
       " {'ID': 3,\n",
       "  'SOURCE_TYPE': 'snowflake',\n",
       "  'SOURCE': 'SELECT * FROM CUSTOMERS',\n",
       "  'CONTENT': 'Customer comment: Great service and fast delivery!'},\n",
       " {'ID': 4,\n",
       "  'SOURCE_TYPE': 'url',\n",
       "  'SOURCE': 'https://news.com',\n",
       "  'CONTENT': 'Article summary: New advancements in AI for 2025.'},\n",
       " {'ID': 5,\n",
       "  'SOURCE_TYPE': 'test',\n",
       "  'SOURCE': 'test_source',\n",
       "  'CONTENT': 'Test content for loading into Snowflake.'},\n",
       " {'ID': 1,\n",
       "  'SOURCE_TYPE': 'url',\n",
       "  'SOURCE': 'https://example.com',\n",
       "  'CONTENT': 'This is sample content from a website about technology trends.'},\n",
       " {'ID': 2,\n",
       "  'SOURCE_TYPE': 'pdf',\n",
       "  'SOURCE': 'document.pdf',\n",
       "  'CONTENT': 'Extracted text from a PDF discussing machine learning algorithms.'},\n",
       " {'ID': 3,\n",
       "  'SOURCE_TYPE': 'snowflake',\n",
       "  'SOURCE': 'SELECT * FROM CUSTOMERS',\n",
       "  'CONTENT': 'Customer comment: Great service and fast delivery!'},\n",
       " {'ID': 4,\n",
       "  'SOURCE_TYPE': 'url',\n",
       "  'SOURCE': 'https://news.com',\n",
       "  'CONTENT': 'Article summary: New advancements in AI for 2025.'},\n",
       " {'ID': 5,\n",
       "  'SOURCE_TYPE': 'test',\n",
       "  'SOURCE': 'test_source',\n",
       "  'CONTENT': 'Test content for loading into Snowflake.'},\n",
       " {'ID': 12,\n",
       "  'SOURCE_TYPE': 'url',\n",
       "  'SOURCE': 'https://example.com',\n",
       "  'CONTENT': 'Sample content from a website.'},\n",
       " {'ID': 13,\n",
       "  'SOURCE_TYPE': 'pdf',\n",
       "  'SOURCE': 'document.pdf',\n",
       "  'CONTENT': 'Extracted PDF content.'},\n",
       " {'ID': 14,\n",
       "  'SOURCE_TYPE': 'test',\n",
       "  'SOURCE': 'test_source',\n",
       "  'CONTENT': 'Test content for Snowflake load.'}]"
      ]
     },
     "execution_count": 8,
     "metadata": {},
     "output_type": "execute_result"
    }
   ],
   "source": [
    "run_snowflake_query(\"SELECT * FROM MY_DATABASE.PUBLIC.DOCUMENTS\", profile=\"default\")"
   ]
  }
 ],
 "metadata": {
  "kernelspec": {
   "display_name": "Python 3",
   "language": "python",
   "name": "python3"
  },
  "language_info": {
   "codemirror_mode": {
    "name": "ipython",
    "version": 3
   },
   "file_extension": ".py",
   "mimetype": "text/x-python",
   "name": "python",
   "nbconvert_exporter": "python",
   "pygments_lexer": "ipython3",
   "version": "3.11.11"
  }
 },
 "nbformat": 4,
 "nbformat_minor": 5
}
